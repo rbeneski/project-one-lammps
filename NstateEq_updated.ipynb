{
 "cells": [
  {
   "cell_type": "code",
   "execution_count": 1,
   "metadata": {
    "collapsed": true
   },
   "outputs": [],
   "source": [
    "import numpy as np\n",
    "import matplotlib.pyplot as plt\n",
    "import scipy.integrate as integrate"
   ]
  },
  {
   "cell_type": "code",
   "execution_count": 2,
   "metadata": {
    "collapsed": false
   },
   "outputs": [
    {
     "name": "stdout",
     "output_type": "stream",
     "text": [
      "[-0.29530944 -0.28754363 -0.28024868 -0.27336813 -0.26685538 -0.26067165\n",
      " -0.25478439 -0.24916605 -0.24379315 -0.23864546 -0.22895786 -0.22438918\n",
      " -0.2199875  -0.21574217 -0.21164366 -0.20768335 -0.20385346 -0.20014687\n",
      " -0.19655707 -0.19307809]\n"
     ]
    }
   ],
   "source": [
    "N = np.array([0.924803575275, -0.492448489428, 0.661883336938, -0.192902649201E1, -0.622469309629E-1, 0.349943957581, 0.264857472498, -0.161720005987E1, -0.481395031883, 0.421150636384, -0.161962230825E-1, 0.172100994165, 0.735448924933E-2, 0.1680077305479E-1,-0.107626664179E-2, -0.137318088513E-1, 0.635466899859E-3, 0.304432279419E-2,-0.435762336045E-1,-0.723174889316E-1, 0.389644315272E-1,-0.212201363910E-1,0.408822981509E-2, -0.551990017984E-4, -0.462016716479E-1, -0.300311716011E-2, 0.368825891208E-1,-0.255856846220E-2, 0.896915264558E-2, -0.441513370350E-2,0.133722924858E-2, 0.264832491957E-3, 0.196688194015E2, -0.209115600730E2, 0.167788306989E-1,0.262767566274E4])\n",
    "\n",
    "i = ([1.0, 1.0, 2.0, 2.0, 3.0, 3.0, 1.0, 1.0, 1.0, 3.0, 3.0, 4.0, 6.0, 6.0, 7.0, 7.0, 8.0, 8.0, 1.0, 2.0, 3.0, 4.0, 5.0, 8.0, 4.0, 5.0, 5.0, 8.0, 3.0, 5.0, 6.0, 9.0, 1.0, 1.0, 3.0, 2.0])\n",
    "\n",
    "j = ([0.25, 0.875, 0.5, 0.875, 0.375, 0.75, 0.5, 0.75, 2.0, 1.25, 3.5, 1.0, 0.5, 3.0, 0.0, 2.75, 0.75, 2.5, 4.0, 6.0, 6.0, 3.0, 3.0, 6.0, 16.0, 11.0, 15.0, 12.0, 12.0, 7.0, 4.0, 16.0, 0.0, 1.0, 2.0, 3.0])\n",
    "\n",
    "l = ([0, 0, 0, 0, 0, 0, 1, 1, 1, 1, 1, 1, 1, 1, 1, 1, 1, 1, 2, 2, 2, 2, 2, 2, 3, 3, 3, 3, 4, 4, 4, 4, 2, 2, 2, 2])\n",
    "\n",
    "ϕ = ([0, 0, 0, 0, 0, 0, 0, 0, 0, 0, 0, 0, 0, 0, 0, 0, 0, 0, 0, 0, 0, 0, 0, 0, 0, 0, 0, 0, 0, 0, 0, 0, 20, 20, 15, 25])\n",
    "\n",
    "β =([0, 0, 0, 0, 0, 0, 0, 0, 0, 0, 0, 0, 0, 0, 0, 0, 0, 0, 0, 0, 0, 0, 0, 0, 0, 0, 0, 0, 0, 0, 0, 0, 325, 325, 300, 275])\n",
    "\n",
    "γ = ([0, 0, 0, 0, 0, 0, 0, 0, 0, 0, 0, 0, 0, 0, 0, 0, 0, 0, 0, 0, 0, 0, 0, 0, 0, 0, 0, 0, 0, 0, 0, 0, 1.16, 1.16, 1.13, 1.25])\n",
    "\n",
    "\n",
    "cf1 = 1E-27*(6.022E23) #converts mol/dm^3 to particles/angstrom\n",
    "#cf1 =1\n",
    "ρ =  500/(94**3)\n",
    "ρc = 11.1839*cf1 #particles/angsrom critical density\n",
    "δ = ρ/ρc #reduced density\n",
    "\n",
    "Tc = 126.192 #K\n",
    "#T = np.array([78])\n",
    "T = np.array([78,79,80,81,82,83,84,85,86,87,89,90,91,92,93,94,95,96,97,98])#K\n",
    "τ = Tc/T\n",
    "αR = []\n",
    "for cτ in τ:\n",
    "    C1 = 0.0\n",
    "    for n in range(6):\n",
    "        C1 += N[n]*(np.power(δ,i[n]))*(np.power(cτ,j[n])) \n",
    "\n",
    "    C2 = 0.0\n",
    "    for n in range(6,32):\n",
    "        C2 += N[n]*(np.power(δ,i[n]))*(np.power(cτ,j[n]))*np.exp(-np.power(δ,l[n]))\n",
    "\n",
    "    C3 = 0.0\n",
    "    for n in range(32,36):\n",
    "        C3 += N[n]*(np.power(δ,i[n]))*(np.power(cτ,j[n]))*np.exp((-ϕ[n]*np.power(δ-1,2))-(β[n]*np.power(cτ-γ[n],2)))\n",
    "\n",
    "    αR.append(C1 + C2 + C3)\n",
    "αR = np.array(αR)\n",
    "print(αR)"
   ]
  },
  {
   "cell_type": "code",
   "execution_count": 3,
   "metadata": {
    "collapsed": false
   },
   "outputs": [
    {
     "name": "stdout",
     "output_type": "stream",
     "text": [
      "0.001988192361341747\n",
      "250.4797618345003\n"
     ]
    }
   ],
   "source": [
    "cf2 = 1/(6.022E23)*(1.44E20)\n",
    "#cf2 = 1\n",
    "h00 = 8670.0*cf2 #kcal/particleK\n",
    "s00 = 191.5*cf2 #kcal/particleK\n",
    "R = 8.314510*cf2 #kcal/particleK\n",
    "T0 = 298.15 #K\n",
    "p0 = 0.101325*9.86923  #atm\n",
    "#p0 = 0.101325\n",
    "ρ0 = p0/(R*T0)\n",
    "δ0 = ρ0/ρc\n",
    "Tc = 126.192 #K\n",
    "τ0 = Tc/T0\n",
    "print(R)\n",
    "print(δ0)"
   ]
  },
  {
   "cell_type": "code",
   "execution_count": 4,
   "metadata": {
    "collapsed": false
   },
   "outputs": [
    {
     "name": "stdout",
     "output_type": "stream",
     "text": [
      "[ -4.61725843e-05  -4.50107146e-05  -4.38921547e-05  -4.28147785e-05\n",
      "  -4.17765888e-05  -4.07757079e-05  -3.98103694e-05  -3.88789101e-05\n",
      "  -3.79797631e-05  -3.71114508e-05  -3.54618326e-05  -3.46779673e-05\n",
      "  -3.39198080e-05  -3.31862430e-05  -3.24762197e-05  -3.17887416e-05\n",
      "  -3.11228642e-05  -3.04776919e-05  -2.98523750e-05  -2.92461073e-05]\n"
     ]
    },
    {
     "name": "stderr",
     "output_type": "stream",
     "text": [
      "C:\\Users\\Owner\\Anaconda3\\lib\\site-packages\\ipykernel\\__main__.py:14: RuntimeWarning: invalid value encountered in power\n"
     ]
    }
   ],
   "source": [
    "#q = sum(e)sum(v)sum(j)[ge*gj*(j+2)*exp(-E/kT)]\n",
    "#for ground state\n",
    "\n",
    "ge = 1\n",
    "gnj = 6\n",
    "ν = 0\n",
    "jj = 0\n",
    "ωe = 2358.57*10**8 #inverse angstroms\n",
    "ωeχe = 14.324*10**8 #inverse angstoms\n",
    "αe = 0.0017318*10**8 #inverse angstroms\n",
    "B = 1.99824*10**8 #inverse angrstroms\n",
    "D = ((4*np.power(B,3))/(np.power(ωe,2)))\n",
    "βb = D*((8*ωeχe/ωe)-(5*αe/B)-((np.power(αe,2)*ωe/(24*np.power(B,3)))))\n",
    "k = 1.381*(1.44*np.power(10,20)) #J/K\n",
    "\n",
    "\n",
    "G0 = ωe*1-ωeχe*np.power(((1/2)),2)\n",
    "G = ωe*(ν+1)-ωeχe*np.power((ν+(1/2)),2)\n",
    "F = (B - αe*(ν+(1/2))*(jj*(jj+1)))-((D+βb*(ν+(1/2))))*(np.power(jj,2))*(np.power(jj+1,2))\n",
    "E = (G-G0)+F\n",
    "\n",
    "q = ge*gnj*((2*jj)+1)*(E/(k*np.power(T,2)))*np.exp(-E/(k*T))\n",
    "print(q)"
   ]
  },
  {
   "cell_type": "code",
   "execution_count": 5,
   "metadata": {
    "collapsed": false
   },
   "outputs": [
    {
     "name": "stdout",
     "output_type": "stream",
     "text": [
      "[ -4.61725843e-05  -4.50107146e-05  -4.38921547e-05  -4.28147785e-05\n",
      "  -4.17765888e-05  -4.07757079e-05  -3.98103694e-05  -3.88789101e-05\n",
      "  -3.79797631e-05  -3.71114508e-05  -3.54618326e-05  -3.46779673e-05\n",
      "  -3.39198080e-05  -3.31862430e-05  -3.24762197e-05  -3.17887416e-05\n",
      "  -3.11228642e-05  -3.04776919e-05  -2.98523750e-05  -2.92461073e-05]\n"
     ]
    }
   ],
   "source": [
    "dqT = ge*gnj*((2*jj)+1)*(E/(k*np.power(T,2)))*np.exp(-E/(k*T))\n",
    "print(dqT)"
   ]
  },
  {
   "cell_type": "code",
   "execution_count": 6,
   "metadata": {
    "collapsed": false
   },
   "outputs": [
    {
     "name": "stdout",
     "output_type": "stream",
     "text": [
      "[ 0.02034715  0.02025582  0.02016677  0.02007993  0.0199952   0.01991252\n",
      "  0.0198318   0.01975299  0.01967601  0.0196008   0.01945546  0.01938521\n",
      "  0.0193165   0.01924929  0.01918353  0.01911917  0.01905616  0.01899446\n",
      "  0.01893404  0.01887485]\n"
     ]
    }
   ],
   "source": [
    "d2qT2 = ge*gnj*((2*jj)+1)*(E/(k*T))*((E/k*T)-2)*np.exp((-E/(k*T)))\n",
    "print(d2qT2)"
   ]
  },
  {
   "cell_type": "code",
   "execution_count": 7,
   "metadata": {
    "collapsed": false
   },
   "outputs": [
    {
     "name": "stdout",
     "output_type": "stream",
     "text": [
      "[ 3972114.18662473  4060919.0036601   4149997.66767725  4239317.45212605\n",
      "  4328845.51963967  4418548.93413328  4508394.67277676  4598349.6378439\n",
      "  4688380.66844052  4778454.55211401  4958597.83993354  5048600.66425185\n",
      "  5138513.20441597  5228302.1603281   5317934.24762189  5407376.20850245\n",
      "  5496594.82248459  5585556.91703095  5674229.37809198  5762579.16054949]\n"
     ]
    }
   ],
   "source": [
    "cp0 = R*((5/2)+((2*T/q)*np.power((dqT),2))+((np.power(T,2)/q)*(d2qT2)))\n",
    "#print(cp0)\n",
    "#print(R)\n",
    "def integrand1(t,cp0):\n",
    "    return cp0/np.power(t,2)\n",
    "def integrand2(t,cp0):\n",
    "    return cp0/t\n",
    "\n",
    "α0 = []\n",
    "for ii, cτ in enumerate(τ):\n",
    "    cα0 = ((h00*cτ)/(R*Tc))-(s00/R)-1+np.log((δ*τ0)/(δ0*cτ))-((cτ/R)*integrate.quad(integrand1,τ0,cτ,args=(cp0[ii]))[0])+((1/R)*integrate.quad(integrand2,τ0,cτ,args=cp0[ii])[0])\n",
    "    α0.append(cα0)\n",
    "α0 = np.array(α0)\n",
    "print(α0)"
   ]
  },
  {
   "cell_type": "code",
   "execution_count": 8,
   "metadata": {
    "collapsed": false
   },
   "outputs": [
    {
     "name": "stdout",
     "output_type": "stream",
     "text": [
      "α = [ 3972113.89131529  4060918.71611647  4149997.38742857  4239317.17875793\n",
      "  4328845.25278429  4418548.67346163  4508394.41799237  4598349.38867785\n",
      "  4688380.42464737  4778454.31346855  4958597.61097567  5048600.43986267\n",
      "  5138512.98442847  5228301.94458593  5317934.03597823  5407376.0008191\n",
      "  5496594.61863113  5585556.71688409  5674229.18153492  5762578.9674714 ]\n",
      "\n",
      " a = [  615991.46677321   637837.11814159   660079.4484219    682714.82060102\n",
      "   705739.31933133   729148.75182583   752938.64887653   777104.26599473\n",
      "   801640.58467193   826542.31376011   877419.48448673   903382.99470014\n",
      "   929688.05605094   956328.03898928   983296.05204596  1010584.94401473\n",
      "  1038187.30624468  1066095.4750416   1094301.53417732  1122797.31750601]\n"
     ]
    },
    {
     "data": {
      "image/png": "[encoded data removed]",
      "text/plain": [
       "<matplotlib.figure.Figure at 0x847ccc0>"
      ]
     },
     "metadata": {},
     "output_type": "display_data"
    }
   ],
   "source": [
    "α = α0 + αR #J/mol\n",
    "print('α =', α)\n",
    "\n",
    "a = R*T*α\n",
    "print('\\n a =', a)\n",
    "\n",
    "plt.plot(T,a)\n",
    "plt.xlabel('Temperature (K)')\n",
    "plt.ylabel('Hemholtz Free Energy')\n",
    "plt.show()"
   ]
  },
  {
   "cell_type": "code",
   "execution_count": 12,
   "metadata": {
    "collapsed": false
   },
   "outputs": [
    {
     "name": "stdout",
     "output_type": "stream",
     "text": [
      "da0  [ -1.86710801e-07  -1.89104530e-07  -1.91498258e-07  -1.93891986e-07\n",
      "  -1.96285714e-07  -1.98679442e-07  -2.01073171e-07  -2.03466899e-07\n",
      "  -2.05860627e-07  -2.08254355e-07  -2.13041812e-07  -2.15435540e-07\n",
      "  -2.17829268e-07  -2.20222996e-07  -2.22616725e-07  -2.25010453e-07\n",
      "  -2.27404181e-07  -2.29797909e-07  -2.32191638e-07  -2.34585366e-07]\n",
      "daR  [  5.79780919e-08   5.66239871e-08   5.54260842e-08   5.43570777e-08\n",
      "   5.33950657e-08   5.25224100e-08   5.17248471e-08   5.09907945e-08\n",
      "   5.03108055e-08   4.96771417e-08   4.85244197e-08   4.79957220e-08\n",
      "   4.74936900e-08   4.70152592e-08   4.65578449e-08   4.61192555e-08\n",
      "   4.56976227e-08   4.52913453e-08   4.48990441e-08   4.45195242e-08]\n",
      "P  [ -1.28732709e-07  -1.32480542e-07  -1.36072174e-07  -1.39534908e-07\n",
      "  -1.42890648e-07  -1.46157032e-07  -1.49348324e-07  -1.52476104e-07\n",
      "  -1.55549822e-07  -1.58577214e-07  -1.64517392e-07  -1.67439818e-07\n",
      "  -1.70335578e-07  -1.73207737e-07  -1.76058880e-07  -1.78891197e-07\n",
      "  -1.81706558e-07  -1.84506564e-07  -1.87292593e-07  -1.90065841e-07]\n"
     ]
    }
   ],
   "source": [
    "## to get pressure from a, P = -(δF/δV) for constant T\n",
    "\n",
    "V = (94**3) #angrstroms^3\n",
    "mol = 500 #particles\n",
    "Vc = 74239.66 #angstroms^3\n",
    "\n",
    "da0 = -R*T/V\n",
    "daR = []\n",
    "for nτ,cτ in enumerate(τ):\n",
    "    daR1 = 0.0\n",
    "    for n in range(6):\n",
    "        daR1 += -i[n]*(N[n]*(cτ**j[n])*(Vc**i[n]))*V**(-i[n]-1)\n",
    "    daR2 = 0.0\n",
    "    for n in range(6,32):\n",
    "        daR2 += (l[n]*(cτ**j[n])*N[n]*(Vc**(l[n]+i[n]))*(V**(-i[n]-l[n]-1))*np.exp((-Vc/V)**l[n]))+(-i[n]*N[n]*(cτ**j[n])*(Vc**i[n])*(V**(-i[n]-1))*np.exp((-Vc/V)**l[n]))\n",
    "    daR3 = 0.0\n",
    "    for n in range(32,36):\n",
    "        daR3 += (2*ϕ[n]*Vc*(V**-2)*((Vc/V)-1)*np.exp(-ϕ[n]*(((Vc/V)-1)**2)-β[n]*((cτ-γ[n])**2))*(-i[n]*(N[n]*(Vc**i[n])*(cτ**j[n]))*(V**(-i[n]-1))))+((-i[n]*(N[n]*(Vc**i[n])*(cτ**j[n]))*(V**(-i[n]-1)))*(np.exp((-ϕ[n]*(((Vc/V)-1)**2))-β[n]*((cτ-γ[n])**2))))\n",
    "    \n",
    "    daR.append((R*T[nτ])*(daR1 + daR2 + daR3))\n",
    "                                                                                                                                          \n",
    "daR = np.array(daR)\n",
    "\n",
    "print('da0 ', da0)\n",
    "print('daR ', daR)\n",
    "P = da0 + daR\n",
    "print('P ', P)                                                                                                                                   "
   ]
  },
  {
   "cell_type": "code",
   "execution_count": 28,
   "metadata": {
    "collapsed": false
   },
   "outputs": [
    {
     "name": "stdout",
     "output_type": "stream",
     "text": [
      "[ -1.27049272e-06  -1.30748094e-06  -1.34292758e-06  -1.37710210e-06\n",
      "  -1.41022067e-06  -1.44245737e-06  -1.47395295e-06  -1.50482174e-06\n",
      "  -1.53515697e-06  -1.56503499e-06  -1.62365998e-06  -1.65250207e-06\n",
      "  -1.68108100e-06  -1.70942700e-06  -1.73756558e-06  -1.76551837e-06\n",
      "  -1.79330382e-06  -1.82093772e-06  -1.84843368e-06  -1.87580350e-06]\n"
     ]
    },
    {
     "data": {
      "image/png": "[encoded data removed]",
      "text/plain": [
       "<matplotlib.figure.Figure at 0x9988a90>"
      ]
     },
     "metadata": {},
     "output_type": "display_data"
    }
   ],
   "source": [
    "Patm = P*9.86923\n",
    "print(Patm)\n",
    "plt.plot(T,Patm)\n",
    "plt.show()\n",
    "    "
   ]
  },
  {
   "cell_type": "code",
   "execution_count": 27,
   "metadata": {
    "collapsed": false
   },
   "outputs": [
    {
     "name": "stdout",
     "output_type": "stream",
     "text": [
      "[[ 0.00063591  0.00064407  0.00065222  0.00066037  0.00066852  0.00067668\n",
      "   0.00068483  0.00069298  0.00070114  0.00070929  0.00072559  0.00073375\n",
      "   0.0007419   0.00075005  0.0007582   0.00076636  0.00077451  0.00078266\n",
      "   0.00079082  0.00079897]\n",
      " [ 0.00064609  0.00065438  0.00066266  0.00067094  0.00067923  0.00068751\n",
      "   0.00069579  0.00070408  0.00071236  0.00072064  0.00073721  0.00074549\n",
      "   0.00075377  0.00076206  0.00077034  0.00077862  0.00078691  0.00079519\n",
      "   0.00080347  0.00081176]\n",
      " [ 0.00065527  0.00066367  0.00067207  0.00068047  0.00068887  0.00069727\n",
      "   0.00070567  0.00071407  0.00072247  0.00073088  0.00074768  0.00075608\n",
      "   0.00076448  0.00077288  0.00078128  0.00078968  0.00079808  0.00080648\n",
      "   0.00081488  0.00082329]\n",
      " [ 0.00066361  0.00067211  0.00068062  0.00068913  0.00069764  0.00070614\n",
      "   0.00071465  0.00072316  0.00073167  0.00074018  0.00075719  0.0007657\n",
      "   0.00077421  0.00078271  0.00079122  0.00079973  0.00080824  0.00081675\n",
      "   0.00082525  0.00083376]\n",
      " [ 0.00067124  0.00067984  0.00068845  0.00069706  0.00070566  0.00071427\n",
      "   0.00072287  0.00073148  0.00074008  0.00074869  0.0007659   0.00077451\n",
      "   0.00078311  0.00079172  0.00080032  0.00080893  0.00081753  0.00082614\n",
      "   0.00083475  0.00084335]\n",
      " [ 0.00067828  0.00068697  0.00069567  0.00070436  0.00071306  0.00072176\n",
      "   0.00073045  0.00073915  0.00074784  0.00075654  0.00077393  0.00078263\n",
      "   0.00079132  0.00080002  0.00080871  0.00081741  0.00082611  0.0008348\n",
      "   0.0008435   0.00085219]\n",
      " [ 0.0006848   0.00069358  0.00070236  0.00071114  0.00071992  0.0007287\n",
      "   0.00073748  0.00074626  0.00075504  0.00076382  0.00078138  0.00079016\n",
      "   0.00079894  0.00080772  0.0008165   0.00082527  0.00083405  0.00084283\n",
      "   0.00085161  0.00086039]\n",
      " [ 0.00069089  0.00069975  0.0007086   0.00071746  0.00072632  0.00073518\n",
      "   0.00074403  0.00075289  0.00076175  0.00077061  0.00078832  0.00079718\n",
      "   0.00080604  0.0008149   0.00082375  0.00083261  0.00084147  0.00085033\n",
      "   0.00085918  0.00086804]\n",
      " [ 0.00069659  0.00070552  0.00071446  0.00072339  0.00073232  0.00074125\n",
      "   0.00075018  0.00075911  0.00076804  0.00077697  0.00079483  0.00080376\n",
      "   0.00081269  0.00082162  0.00083055  0.00083948  0.00084842  0.00085735\n",
      "   0.00086628  0.00087521]\n",
      " [ 0.00070196  0.00071096  0.00071996  0.00072896  0.00073796  0.00074696\n",
      "   0.00075596  0.00076496  0.00077396  0.00078296  0.00080096  0.00080996\n",
      "   0.00081896  0.00082796  0.00083696  0.00084596  0.00085495  0.00086395\n",
      "   0.00087295  0.00088195]\n",
      " [ 0.00071185  0.00072097  0.0007301   0.00073923  0.00074835  0.00075748\n",
      "   0.0007666   0.00077573  0.00078486  0.00079398  0.00081224  0.00082136\n",
      "   0.00083049  0.00083961  0.00084874  0.00085787  0.00086699  0.00087612\n",
      "   0.00088525  0.00089437]\n",
      " [ 0.00071642  0.00072561  0.00073479  0.00074398  0.00075316  0.00076235\n",
      "   0.00077153  0.00078072  0.0007899   0.00079909  0.00081746  0.00082664\n",
      "   0.00083582  0.00084501  0.00085419  0.00086338  0.00087256  0.00088175\n",
      "   0.00089093  0.00090012]\n",
      " [ 0.00072078  0.00073002  0.00073926  0.00074851  0.00075775  0.00076699\n",
      "   0.00077623  0.00078547  0.00079471  0.00080395  0.00082243  0.00083167\n",
      "   0.00084091  0.00085015  0.0008594   0.00086864  0.00087788  0.00088712\n",
      "   0.00089636  0.0009056 ]\n",
      " [ 0.00072495  0.00073425  0.00074354  0.00075284  0.00076213  0.00077142\n",
      "   0.00078072  0.00079001  0.00079931  0.0008086   0.00082719  0.00083648\n",
      "   0.00084578  0.00085507  0.00086437  0.00087366  0.00088296  0.00089225\n",
      "   0.00090154  0.00091084]\n",
      " [ 0.00072895  0.00073829  0.00074764  0.00075698  0.00076633  0.00077567\n",
      "   0.00078502  0.00079436  0.00080371  0.00081305  0.00083175  0.00084109\n",
      "   0.00085044  0.00085978  0.00086913  0.00087847  0.00088782  0.00089716\n",
      "   0.00090651  0.00091585]\n",
      " [ 0.00073278  0.00074217  0.00075157  0.00076096  0.00077036  0.00077975\n",
      "   0.00078914  0.00079854  0.00080793  0.00081733  0.00083612  0.00084551\n",
      "   0.00085491  0.0008643   0.0008737   0.00088309  0.00089249  0.00090188\n",
      "   0.00091127  0.00092067]\n",
      " [ 0.00073646  0.0007459   0.00075534  0.00076479  0.00077423  0.00078367\n",
      "   0.00079311  0.00080255  0.00081199  0.00082144  0.00084032  0.00084976\n",
      "   0.0008592   0.00086865  0.00087809  0.00088753  0.00089697  0.00090641\n",
      "   0.00091585  0.0009253 ]\n",
      " [ 0.00074001  0.00074949  0.00075898  0.00076847  0.00077795  0.00078744\n",
      "   0.00079693  0.00080642  0.0008159   0.00082539  0.00084436  0.00085385\n",
      "   0.00086334  0.00087283  0.00088231  0.0008918   0.00090129  0.00091078\n",
      "   0.00092026  0.00092975]\n",
      " [ 0.00074342  0.00075295  0.00076248  0.00077202  0.00078155  0.00079108\n",
      "   0.00080061  0.00081014  0.00081967  0.0008292   0.00084826  0.00085779\n",
      "   0.00086733  0.00087686  0.00088639  0.00089592  0.00090545  0.00091498\n",
      "   0.00092451  0.00093404]\n",
      " [ 0.00074672  0.00075629  0.00076587  0.00077544  0.00078501  0.00079459\n",
      "   0.00080416  0.00081373  0.00082331  0.00083288  0.00085203  0.0008616\n",
      "   0.00087117  0.00088075  0.00089032  0.00089989  0.00090947  0.00091904\n",
      "   0.00092861  0.00093819]]\n"
     ]
    }
   ],
   "source": [
    "#p = ρ*R*T*(1+δ*(dar/dδ))\n",
    "dar = []\n",
    "\n",
    "for nτ,cτ in enumerate(τ):\n",
    "    dar1 = 0.0\n",
    "    for n in range(6):\n",
    "        dar1 += i[n]*N[n]*(δ**i[n])*(cτ**j[n])\n",
    "    dar2 = 0.0\n",
    "    for n in range(6,32):\n",
    "        dar2 += N[n]*(δ**i[n])*(cτ**j[n])*np.exp(-δ**l[n])*(i[n]-l[n]*(δ**l[n]))\n",
    "    dar3 = 0.0\n",
    "    for n in range(32,36):\n",
    "        dar3 += N[n]*(δ**i[n])*(cτ**j[n])*np.exp(-ϕ[n]*((δ-1)**2)-β[n]*((τ-γ[n])**2))*(i[n]-2*δ*ϕ[n]*(δ-1))\n",
    "        \n",
    "    dar.append(dar1+dar2+dar3)\n",
    "    \n",
    "dar = np.array(dar)\n",
    "print((ρ*R*T*(1+dar))*9.86923)"
   ]
  },
  {
   "cell_type": "code",
   "execution_count": null,
   "metadata": {
    "collapsed": true
   },
   "outputs": [],
   "source": []
  }
 ],
 "metadata": {
  "anaconda-cloud": {},
  "kernelspec": {
   "display_name": "Python [default]",
   "language": "python",
   "name": "python3"
  },
  "language_info": {
   "codemirror_mode": {
    "name": "ipython",
    "version": 3
   },
   "file_extension": ".py",
   "mimetype": "text/x-python",
   "name": "python",
   "nbconvert_exporter": "python",
   "pygments_lexer": "ipython3",
   "version": "3.5.2"
  }
 },
 "nbformat": 4,
 "nbformat_minor": 1
}
