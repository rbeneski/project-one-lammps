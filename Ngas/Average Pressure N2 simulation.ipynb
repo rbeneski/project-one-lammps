{
 "cells": [
  {
   "cell_type": "code",
   "execution_count": 56,
   "metadata": {
    "collapsed": false
   },
   "outputs": [
    {
     "name": "stdout",
     "output_type": "stream",
     "text": [
      "0.911931437193 atm\n",
      "0.0924014528736 MPa\n"
     ]
    }
   ],
   "source": [
    "import numpy as np\n",
    "import matplotlib.pyplot as plt\n",
    "\n",
    "t78, T78,KE78, PE78, p78 = np.loadtxt('N78Kdata.dat', unpack = True)\n",
    "P78 = np.average(p78)\n",
    "print(P78, 'atm')\n",
    "P̂78 = P78*0.101325\n",
    "print(P̂78, 'MPa')"
   ]
  },
  {
   "cell_type": "code",
   "execution_count": 57,
   "metadata": {
    "collapsed": false
   },
   "outputs": [
    {
     "name": "stdout",
     "output_type": "stream",
     "text": [
      "0.92378476038 atm\n",
      "0.0936024908455 MPa\n"
     ]
    }
   ],
   "source": [
    "t79, T79,KE79, PE79, p79 = np.loadtxt('N79Kdata.dat', unpack = True)\n",
    "P79 = np.average(p79)\n",
    "print(P79, 'atm')\n",
    "P̂79 = P79*0.101325\n",
    "print(P̂79, 'MPa')"
   ]
  },
  {
   "cell_type": "code",
   "execution_count": 58,
   "metadata": {
    "collapsed": false
   },
   "outputs": [
    {
     "name": "stdout",
     "output_type": "stream",
     "text": [
      "0.935639085435 atm\n",
      "0.0948036303317 MPa\n"
     ]
    }
   ],
   "source": [
    "t80, T80,KE80, PE80, p80 = np.loadtxt('N80Kdata.dat', unpack = True)\n",
    "P80 = np.average(p80)\n",
    "print(P80, 'atm')\n",
    "P̂80 = P80*0.101325\n",
    "print(P̂80, 'MPa')"
   ]
  },
  {
   "cell_type": "code",
   "execution_count": 59,
   "metadata": {
    "collapsed": false
   },
   "outputs": [
    {
     "name": "stdout",
     "output_type": "stream",
     "text": [
      "0.94749439987 atm\n",
      "0.0960048700668 MPa\n"
     ]
    }
   ],
   "source": [
    "t81, T81,KE81, PE81, p81 = np.loadtxt('N81Kdata.dat', unpack = True)\n",
    "P81 = np.average(p81)\n",
    "print(P81, 'atm')\n",
    "P̂81 = P81*0.101325\n",
    "print(P̂81, 'MPa')"
   ]
  },
  {
   "cell_type": "code",
   "execution_count": 60,
   "metadata": {
    "collapsed": false
   },
   "outputs": [
    {
     "name": "stdout",
     "output_type": "stream",
     "text": [
      "0.959350686354 atm\n",
      "0.0972062082948 MPa\n"
     ]
    }
   ],
   "source": [
    "t82, T82,KE82, PE82, p82 = np.loadtxt('N82Kdata.dat', unpack = True)\n",
    "P82 = np.average(p82)\n",
    "print(P82, 'atm')\n",
    "P̂82 = P82*0.101325\n",
    "print(P̂82, 'MPa')"
   ]
  },
  {
   "cell_type": "code",
   "execution_count": 61,
   "metadata": {
    "collapsed": false
   },
   "outputs": [
    {
     "name": "stdout",
     "output_type": "stream",
     "text": [
      "0.971207939351 atm\n",
      "0.0984076444547 MPa\n"
     ]
    }
   ],
   "source": [
    "t83, T83,KE83, PE83, p83 = np.loadtxt('N83Kdata.dat', unpack = True)\n",
    "P83 = np.average(p83)\n",
    "print(P83, 'atm')\n",
    "P̂83 = P83*0.101325\n",
    "print(P̂83, 'MPa')"
   ]
  },
  {
   "cell_type": "code",
   "execution_count": 62,
   "metadata": {
    "collapsed": false
   },
   "outputs": [
    {
     "name": "stdout",
     "output_type": "stream",
     "text": [
      "0.983066151329 atm\n",
      "0.0996091777834 MPa\n"
     ]
    }
   ],
   "source": [
    "t84, T84,KE84, PE84, p84 = np.loadtxt('N84Kdata.dat', unpack = True)\n",
    "P84 = np.average(p84)\n",
    "print(P84, 'atm')\n",
    "P̂84 = P84*0.101325\n",
    "print(P̂84, 'MPa')"
   ]
  },
  {
   "cell_type": "code",
   "execution_count": 63,
   "metadata": {
    "collapsed": false
   },
   "outputs": [
    {
     "name": "stdout",
     "output_type": "stream",
     "text": [
      "0.994925302657 atm\n",
      "0.100810806292 MPa\n"
     ]
    }
   ],
   "source": [
    "t85, T85,KE85, PE85, p85 = np.loadtxt('N85Kdata.dat', unpack = True)\n",
    "P85 = np.average(p85)\n",
    "print(P85, 'atm')\n",
    "P̂85 = P85*0.101325\n",
    "print(P̂85, 'MPa')"
   ]
  },
  {
   "cell_type": "code",
   "execution_count": 64,
   "metadata": {
    "collapsed": false
   },
   "outputs": [
    {
     "name": "stdout",
     "output_type": "stream",
     "text": [
      "1.00678539534 atm\n",
      "0.102012530183 MPa\n"
     ]
    }
   ],
   "source": [
    "t86, T86,KE86, PE86, p86 = np.loadtxt('N86Kdata.dat', unpack = True)\n",
    "P86 = np.average(p86)\n",
    "print(P86, 'atm')\n",
    "P̂86 = P86*0.101325\n",
    "print(P̂86, 'MPa')"
   ]
  },
  {
   "cell_type": "code",
   "execution_count": 65,
   "metadata": {
    "collapsed": false
   },
   "outputs": [
    {
     "name": "stdout",
     "output_type": "stream",
     "text": [
      "1.01864641848 atm\n",
      "0.103214348353 MPa\n"
     ]
    }
   ],
   "source": [
    "t87, T87,KE87, PE87, p87 = np.loadtxt('N87Kdata.dat', unpack = True)\n",
    "P87 = np.average(p87)\n",
    "print(P87, 'atm')\n",
    "P̂87 = P87*0.101325\n",
    "print(P̂87, 'MPa')"
   ]
  },
  {
   "cell_type": "code",
   "execution_count": 66,
   "metadata": {
    "collapsed": false
   },
   "outputs": [
    {
     "name": "stdout",
     "output_type": "stream",
     "text": [
      "1.03050835435 atm\n",
      "0.104416259004 MPa\n"
     ]
    }
   ],
   "source": [
    "t88, T88,KE88, PE88, p88 = np.loadtxt('N88Kdata.dat', unpack = True)\n",
    "P88 = np.average(p88)\n",
    "print(P88, 'atm')\n",
    "P̂88 = P88*0.101325\n",
    "print(P̂88, 'MPa')"
   ]
  },
  {
   "cell_type": "code",
   "execution_count": 67,
   "metadata": {
    "collapsed": false
   },
   "outputs": [
    {
     "name": "stdout",
     "output_type": "stream",
     "text": [
      "1.0423712014 atm\n",
      "0.105618261982 MPa\n"
     ]
    }
   ],
   "source": [
    "t89, T89,KE89, PE89, p89 = np.loadtxt('N89Kdata.dat', unpack = True)\n",
    "P89 = np.average(p89)\n",
    "print(P89, 'atm')\n",
    "P̂89 = P89*0.101325\n",
    "print(P̂89, 'MPa')"
   ]
  },
  {
   "cell_type": "code",
   "execution_count": 68,
   "metadata": {
    "collapsed": false
   },
   "outputs": [
    {
     "name": "stdout",
     "output_type": "stream",
     "text": [
      "1.05423494765 atm\n",
      "0.106820356071 MPa\n"
     ]
    }
   ],
   "source": [
    "t90, T90,KE90, PE90, p90 = np.loadtxt('N90Kdata.dat', unpack = True)\n",
    "P90 = np.average(p90)\n",
    "print(P90, 'atm')\n",
    "P̂90 = P90*0.101325\n",
    "print(P̂90, 'MPa')"
   ]
  },
  {
   "cell_type": "code",
   "execution_count": 69,
   "metadata": {
    "collapsed": false
   },
   "outputs": [
    {
     "name": "stdout",
     "output_type": "stream",
     "text": [
      "1.06609958981 atm\n",
      "0.108022540938 MPa\n"
     ]
    }
   ],
   "source": [
    "t91, T91,KE91, PE91, p91 = np.loadtxt('N91Kdata.dat', unpack = True)\n",
    "P91 = np.average(p91)\n",
    "print(P91, 'atm')\n",
    "P̂91 = P91*0.101325\n",
    "print(P̂91, 'MPa')"
   ]
  },
  {
   "cell_type": "code",
   "execution_count": 70,
   "metadata": {
    "collapsed": false
   },
   "outputs": [
    {
     "name": "stdout",
     "output_type": "stream",
     "text": [
      "1.07796511479 atm\n",
      "0.109224815256 MPa\n"
     ]
    }
   ],
   "source": [
    "t92, T92,KE92, PE92, p92 = np.loadtxt('N92Kdata.dat', unpack = True)\n",
    "P92 = np.average(p92)\n",
    "print(P92, 'atm')\n",
    "P̂92 = P92*0.101325\n",
    "print(P̂92, 'MPa')"
   ]
  },
  {
   "cell_type": "code",
   "execution_count": 71,
   "metadata": {
    "collapsed": false
   },
   "outputs": [
    {
     "name": "stdout",
     "output_type": "stream",
     "text": [
      "1.08983151289 atm\n",
      "0.110427178043 MPa\n"
     ]
    }
   ],
   "source": [
    "t93, T93,KE93, PE93, p93 = np.loadtxt('N93Kdata.dat', unpack = True)\n",
    "P93 = np.average(p93)\n",
    "print(P93, 'atm')\n",
    "P̂93 = P93*0.101325\n",
    "print(P̂93, 'MPa')"
   ]
  },
  {
   "cell_type": "code",
   "execution_count": 72,
   "metadata": {
    "collapsed": false
   },
   "outputs": [
    {
     "name": "stdout",
     "output_type": "stream",
     "text": [
      "1.10169878521 atm\n",
      "0.111629629412 MPa\n"
     ]
    }
   ],
   "source": [
    "t94, T94,KE94, PE94, p94 = np.loadtxt('N94Kdata.dat', unpack = True)\n",
    "P94 = np.average(p94)\n",
    "print(P94, 'atm')\n",
    "P̂94 = P94*0.101325\n",
    "print(P̂94, 'MPa')"
   ]
  },
  {
   "cell_type": "code",
   "execution_count": 73,
   "metadata": {
    "collapsed": false
   },
   "outputs": [
    {
     "name": "stdout",
     "output_type": "stream",
     "text": [
      "1.11356691588 atm\n",
      "0.112832167752 MPa\n"
     ]
    }
   ],
   "source": [
    "t95, T95,KE95, PE95, p95 = np.loadtxt('N95Kdata.dat', unpack = True)\n",
    "P95 = np.average(p95)\n",
    "print(P95, 'atm')\n",
    "P̂95 = P95*0.101325\n",
    "print(P̂95, 'MPa')"
   ]
  },
  {
   "cell_type": "code",
   "execution_count": 74,
   "metadata": {
    "collapsed": false
   },
   "outputs": [
    {
     "name": "stdout",
     "output_type": "stream",
     "text": [
      "1.125435899 atm\n",
      "0.114034792466 MPa\n"
     ]
    }
   ],
   "source": [
    "t96, T96,KE96, PE96, p96 = np.loadtxt('N96Kdata.dat', unpack = True)\n",
    "P96 = np.average(p96)\n",
    "print(P96, 'atm')\n",
    "P̂96 = P96*0.101325\n",
    "print(P̂96, 'MPa')"
   ]
  },
  {
   "cell_type": "code",
   "execution_count": 75,
   "metadata": {
    "collapsed": false
   },
   "outputs": [
    {
     "name": "stdout",
     "output_type": "stream",
     "text": [
      "1.13730572468 atm\n",
      "0.115237502553 MPa\n"
     ]
    }
   ],
   "source": [
    "t, T97,KE97, PE97, p97 = np.loadtxt('N97Kdata.dat', unpack = True)\n",
    "P97 = np.average(p97)\n",
    "print(P97, 'atm')\n",
    "P̂97 = P97*0.101325\n",
    "print(P̂97, 'MPa')"
   ]
  },
  {
   "cell_type": "code",
   "execution_count": 76,
   "metadata": {
    "collapsed": false
   },
   "outputs": [
    {
     "name": "stdout",
     "output_type": "stream",
     "text": [
      "1.1491763973 atm\n",
      "0.116440298457 MPa\n"
     ]
    }
   ],
   "source": [
    "t98, T98,KE98, PE98, p98 = np.loadtxt('N98Kdata.dat', unpack = True)\n",
    "P98 = np.average(p98)\n",
    "print(P98, 'atm')\n",
    "P̂98 = P98*0.101325\n",
    "print(P̂98, 'MPa')"
   ]
  },
  {
   "cell_type": "code",
   "execution_count": 91,
   "metadata": {
    "collapsed": false
   },
   "outputs": [
    {
     "data": {
      "image/png": "[encoded data removed]",
      "text/plain": [
       "<matplotlib.figure.Figure at 0x7fb39fd91a58>"
      ]
     },
     "metadata": {},
     "output_type": "display_data"
    }
   ],
   "source": [
    "T = np.array([78,79,80,81,82,83,84,85,86,87,88,89,90,91,92,93,94,95,96,97,98])\n",
    "#P̂ = np.array([P̂78, P̂79,P̂80,P̂81,P̂82,P̂83,P̂84,P̂85,P̂86,P̂87,P̂88,P̂89,P̂90,P̂91,P̂92,P̂93,P̂94,P̂95,P̂96,P̂97,P̂98])\n",
    "P = np.array([P78, P79,P80,P81,P82,P83,P84,P85,P86,P87,P88,P89,P90,P91,P92,P93,P94,P95,P96,P97,P98])\n",
    "#plt.plot(T,P̂)\n",
    "plt.plot(T,P)\n",
    "plt.xlabel('Temperature (K)')\n",
    "#plt.ylabel('Pressure (MPa)')\n",
    "plt.ylabel('Pressure (atm)')\n",
    "#plt.axis([80,98,0.90,1.15])\n",
    "plt.show()"
   ]
  },
  {
   "cell_type": "code",
   "execution_count": 89,
   "metadata": {
    "collapsed": false
   },
   "outputs": [
    {
     "name": "stdout",
     "output_type": "stream",
     "text": [
      "0.935639085435\n",
      "m = 0.0118622480055\n"
     ]
    }
   ],
   "source": [
    "#slope\n",
    "print(P80)\n",
    "m = (P98 - P78)/(98-78)\n",
    "print('m =',m)"
   ]
  },
  {
   "cell_type": "code",
   "execution_count": 90,
   "metadata": {
    "collapsed": false
   },
   "outputs": [
    {
     "name": "stdout",
     "output_type": "stream",
     "text": [
      "1.10978824086 %\n",
      "0.033269080896\n"
     ]
    }
   ],
   "source": [
    "#Percent error between simulation slope and coolprop slope\n",
    "print((np.abs(0.0118622480055-0.0119953712248)/0.0119953712248)*100,'%')\n",
    "#Difference between P80 and coolprop P[0] (at 80K)\n",
    "print(0.935639085435 - 0.902370004539) #could be finite size affect #check by running for N=100, "
   ]
  },
  {
   "cell_type": "code",
   "execution_count": null,
   "metadata": {
    "collapsed": true
   },
   "outputs": [],
   "source": [
    "#change density to 4.0 kg/m^3\n",
    "#get coolprops"
   ]
  },
  {
   "cell_type": "code",
   "execution_count": 79,
   "metadata": {
    "collapsed": false
   },
   "outputs": [
    {
     "data": {
      "image/png": "[encoded data removed]",
      "text/plain": [
       "<matplotlib.figure.Figure at 0x7fb39ff99470>"
      ]
     },
     "metadata": {},
     "output_type": "display_data"
    }
   ],
   "source": [
    "p1 = np.append(p78,p79)\n",
    "p2 = np.append(p1,p80)\n",
    "p3 = np.append(p2,p81)\n",
    "p4 = np.append(p3,p82)\n",
    "p5 = np.append(p4,p83)\n",
    "p6 = np.append(p5,p84)\n",
    "p7 = np.append(p6,p85)\n",
    "p8 = np.append(p7,p86)\n",
    "p9 = np.append(p8,p87)\n",
    "p10 = np.append(p9,p88)\n",
    "p11 = np.append(p10,p89)\n",
    "p12 = np.append(p11,p90)\n",
    "p13 = np.append(p12,p91)\n",
    "p14 = np.append(p13,p92)\n",
    "p15 = np.append(p14,p93)\n",
    "p16 = np.append(p15,p94)\n",
    "p17 = np.append(p16,p95)\n",
    "p18 = np.append(p17,p96)\n",
    "p19 = np.append(p18,p97)\n",
    "p = np.append(p19,p98)\n",
    "\n",
    "T1 = np.append(T78,T79)\n",
    "T2 = np.append(T1,T80)\n",
    "T3 = np.append(T2,T81)\n",
    "T4 = np.append(T3,T82)\n",
    "T5 = np.append(T4,T83)\n",
    "T6 = np.append(T5,T84)\n",
    "T7 = np.append(T6,T85)\n",
    "T8 = np.append(T7,T86)\n",
    "T9 = np.append(T8,T87)\n",
    "T10 = np.append(T9,T88)\n",
    "T11 = np.append(T10,T89)\n",
    "T12 = np.append(T11,T90)\n",
    "T13 = np.append(T12,T91)\n",
    "T14 = np.append(T13,T92)\n",
    "T15 = np.append(T14,T93)\n",
    "T16 = np.append(T15,T94)\n",
    "T17 = np.append(T16,T95)\n",
    "T18 = np.append(T17,T96)\n",
    "T19 = np.append(T18,T97)\n",
    "Temp = np.append(T19,T98)\n",
    "\n",
    "plt.scatter(Temp,p)\n",
    "plt.show()"
   ]
  },
  {
   "cell_type": "code",
   "execution_count": null,
   "metadata": {
    "collapsed": true
   },
   "outputs": [],
   "source": []
  }
 ],
 "metadata": {
  "anaconda-cloud": {},
  "kernelspec": {
   "display_name": "Python [default]",
   "language": "python",
   "name": "python3"
  },
  "language_info": {
   "codemirror_mode": {
    "name": "ipython",
    "version": 3
   },
   "file_extension": ".py",
   "mimetype": "text/x-python",
   "name": "python",
   "nbconvert_exporter": "python",
   "pygments_lexer": "ipython3",
   "version": "3.5.2"
  }
 },
 "nbformat": 4,
 "nbformat_minor": 1
}
